{
  "nbformat": 4,
  "nbformat_minor": 0,
  "metadata": {
    "colab": {
      "name": "project(part2).ipynb",
      "provenance": [],
      "collapsed_sections": [],
      "authorship_tag": "ABX9TyNAgEKytrU70oboaouD+SXP",
      "include_colab_link": true
    },
    "kernelspec": {
      "name": "ir",
      "display_name": "R"
    },
    "language_info": {
      "name": "R"
    }
  },
  "cells": [
    {
      "cell_type": "markdown",
      "metadata": {
        "id": "view-in-github",
        "colab_type": "text"
      },
      "source": [
        "<a href=\"https://colab.research.google.com/github/farima-trb/R/blob/main/project(part2).ipynb\" target=\"_parent\"><img src=\"https://colab.research.google.com/assets/colab-badge.svg\" alt=\"Open In Colab\"/></a>"
      ]
    },
    {
      "cell_type": "code",
      "execution_count": null,
      "metadata": {
        "colab": {
          "base_uri": "https://localhost:8080/",
          "height": 306
        },
        "id": "a5vRAnIWS-Xq",
        "outputId": "c1c94fe0-a995-4fcd-cc28-d4843ff8e9aa"
      },
      "outputs": [
        {
          "output_type": "display_data",
          "data": {
            "text/html": [
              "<table class=\"dataframe\">\n",
              "<caption>A data.frame: 6 × 6</caption>\n",
              "<thead>\n",
              "\t<tr><th></th><th scope=col>Time_On_Line</th><th scope=col>Number_Accepting_Insurance</th><th scope=col>Complaints_per_20_Customers</th><th scope=col>Wait_Time_for_Bus</th><th scope=col>Gas_To_Fill</th><th scope=col>Time_On_Line_Improved</th></tr>\n",
              "\t<tr><th></th><th scope=col>&lt;dbl&gt;</th><th scope=col>&lt;int&gt;</th><th scope=col>&lt;int&gt;</th><th scope=col>&lt;dbl&gt;</th><th scope=col>&lt;dbl&gt;</th><th scope=col>&lt;dbl&gt;</th></tr>\n",
              "</thead>\n",
              "<tbody>\n",
              "\t<tr><th scope=row>1</th><td>20.14</td><td>160</td><td>0</td><td>-4.36</td><td>65.25</td><td>11.160</td></tr>\n",
              "\t<tr><th scope=row>2</th><td>14.97</td><td>174</td><td>1</td><td>-3.75</td><td> 9.75</td><td>10.203</td></tr>\n",
              "\t<tr><th scope=row>3</th><td> 9.72</td><td>156</td><td>1</td><td>-1.75</td><td>32.25</td><td>11.127</td></tr>\n",
              "\t<tr><th scope=row>4</th><td>14.65</td><td>146</td><td>3</td><td>-1.13</td><td>14.00</td><td>13.068</td></tr>\n",
              "\t<tr><th scope=row>5</th><td>12.81</td><td>146</td><td>2</td><td>-1.36</td><td>12.25</td><td>11.004</td></tr>\n",
              "\t<tr><th scope=row>6</th><td>19.90</td><td>170</td><td>2</td><td>-2.78</td><td> 7.50</td><td>12.936</td></tr>\n",
              "</tbody>\n",
              "</table>\n"
            ],
            "text/markdown": "\nA data.frame: 6 × 6\n\n| <!--/--> | Time_On_Line &lt;dbl&gt; | Number_Accepting_Insurance &lt;int&gt; | Complaints_per_20_Customers &lt;int&gt; | Wait_Time_for_Bus &lt;dbl&gt; | Gas_To_Fill &lt;dbl&gt; | Time_On_Line_Improved &lt;dbl&gt; |\n|---|---|---|---|---|---|---|\n| 1 | 20.14 | 160 | 0 | -4.36 | 65.25 | 11.160 |\n| 2 | 14.97 | 174 | 1 | -3.75 |  9.75 | 10.203 |\n| 3 |  9.72 | 156 | 1 | -1.75 | 32.25 | 11.127 |\n| 4 | 14.65 | 146 | 3 | -1.13 | 14.00 | 13.068 |\n| 5 | 12.81 | 146 | 2 | -1.36 | 12.25 | 11.004 |\n| 6 | 19.90 | 170 | 2 | -2.78 |  7.50 | 12.936 |\n\n",
            "text/latex": "A data.frame: 6 × 6\n\\begin{tabular}{r|llllll}\n  & Time\\_On\\_Line & Number\\_Accepting\\_Insurance & Complaints\\_per\\_20\\_Customers & Wait\\_Time\\_for\\_Bus & Gas\\_To\\_Fill & Time\\_On\\_Line\\_Improved\\\\\n  & <dbl> & <int> & <int> & <dbl> & <dbl> & <dbl>\\\\\n\\hline\n\t1 & 20.14 & 160 & 0 & -4.36 & 65.25 & 11.160\\\\\n\t2 & 14.97 & 174 & 1 & -3.75 &  9.75 & 10.203\\\\\n\t3 &  9.72 & 156 & 1 & -1.75 & 32.25 & 11.127\\\\\n\t4 & 14.65 & 146 & 3 & -1.13 & 14.00 & 13.068\\\\\n\t5 & 12.81 & 146 & 2 & -1.36 & 12.25 & 11.004\\\\\n\t6 & 19.90 & 170 & 2 & -2.78 &  7.50 & 12.936\\\\\n\\end{tabular}\n",
            "text/plain": [
              "  Time_On_Line Number_Accepting_Insurance Complaints_per_20_Customers\n",
              "1 20.14        160                        0                          \n",
              "2 14.97        174                        1                          \n",
              "3  9.72        156                        1                          \n",
              "4 14.65        146                        3                          \n",
              "5 12.81        146                        2                          \n",
              "6 19.90        170                        2                          \n",
              "  Wait_Time_for_Bus Gas_To_Fill Time_On_Line_Improved\n",
              "1 -4.36             65.25       11.160               \n",
              "2 -3.75              9.75       10.203               \n",
              "3 -1.75             32.25       11.127               \n",
              "4 -1.13             14.00       13.068               \n",
              "5 -1.36             12.25       11.004               \n",
              "6 -2.78              7.50       12.936               "
            ]
          },
          "metadata": {}
        }
      ],
      "source": [
        "data=read.csv(\"/content/Atlas_Khodro.csv\",header = T)\n",
        "head(data)"
      ]
    },
    {
      "cell_type": "code",
      "source": [
        "#Q18\n",
        "\n",
        "# improved?\n",
        "# H0: m1 = m2\n",
        "# H1: m1 > m2\n",
        "\n",
        "\n",
        "n=50\n",
        "m1=mean(data$Time_On_Line)\n",
        "cat(\"mu 1 =\",m1,\"\\n\")\n",
        "cat(\"----------------------------------------\\n\")\n",
        "m2=mean(data$Time_On_Line_Improved)\n",
        "cat(\"mu 2 =\",m2,\"\\n\")\n",
        "cat(\"----------------------------------------\\n\")\n",
        "t.test(data$Time_On_Line,data$Time_On_Line_Improved,paired = T,alternative = \"two.sided\",conf.level = 0.95)\n",
        "\n",
        "round(qt(c(.025, .975), df=49),4)"
      ],
      "metadata": {
        "colab": {
          "base_uri": "https://localhost:8080/",
          "height": 302
        },
        "id": "13tzDmWMTK_5",
        "outputId": "e84a8e82-fe8d-42bd-e0b3-df5e280b08db"
      },
      "execution_count": null,
      "outputs": [
        {
          "output_type": "stream",
          "name": "stdout",
          "text": [
            "mu 1 = 14.7788 \n",
            "----------------------------------------\n",
            "mu 2 = 11.37024 \n",
            "----------------------------------------\n"
          ]
        },
        {
          "output_type": "display_data",
          "data": {
            "text/plain": [
              "\n",
              "\tPaired t-test\n",
              "\n",
              "data:  data$Time_On_Line and data$Time_On_Line_Improved\n",
              "t = 7.797, df = 49, p-value = 3.91e-10\n",
              "alternative hypothesis: true difference in means is not equal to 0\n",
              "95 percent confidence interval:\n",
              " 2.530043 4.287077\n",
              "sample estimates:\n",
              "mean of the differences \n",
              "                3.40856 \n"
            ]
          },
          "metadata": {}
        },
        {
          "output_type": "display_data",
          "data": {
            "text/html": [
              "<style>\n",
              ".list-inline {list-style: none; margin:0; padding: 0}\n",
              ".list-inline>li {display: inline-block}\n",
              ".list-inline>li:not(:last-child)::after {content: \"\\00b7\"; padding: 0 .5ex}\n",
              "</style>\n",
              "<ol class=list-inline><li>-2.0096</li><li>2.0096</li></ol>\n"
            ],
            "text/markdown": "1. -2.0096\n2. 2.0096\n\n\n",
            "text/latex": "\\begin{enumerate*}\n\\item -2.0096\n\\item 2.0096\n\\end{enumerate*}\n",
            "text/plain": [
              "[1] -2.0096  2.0096"
            ]
          },
          "metadata": {}
        }
      ]
    },
    {
      "cell_type": "code",
      "source": [
        "# p-value > 0.05 --> reject H0.  & t = 7.797 > 2.0096"
      ],
      "metadata": {
        "id": "uj54TFXW-k7C"
      },
      "execution_count": null,
      "outputs": []
    },
    {
      "cell_type": "code",
      "source": [
        "#Q19\n",
        "\n",
        "# Changed?\n",
        "# H0: p1  = p2\n",
        "# H1: p1 != p2\n",
        "\n",
        "p1=sum(data$Number_Accepting_Insurance[1:30])/(250*30)\n",
        "p2=0.67"
      ],
      "metadata": {
        "id": "3TNFIrOkWTQX"
      },
      "execution_count": null,
      "outputs": []
    },
    {
      "cell_type": "code",
      "source": [
        "prop.test(x = c(p1*7500,p2*250), n = c(7500,250), alternative = \"two.sided\", conf.level = 0.95)"
      ],
      "metadata": {
        "colab": {
          "base_uri": "https://localhost:8080/",
          "height": 213
        },
        "id": "TBGaEo_NZIby",
        "outputId": "511e98ad-d057-428c-b9ed-e03c7ed29d85"
      },
      "execution_count": null,
      "outputs": [
        {
          "output_type": "display_data",
          "data": {
            "text/plain": [
              "\n",
              "\t2-sample test for equality of proportions with continuity correction\n",
              "\n",
              "data:  c(p1 * 7500, p2 * 250) out of c(7500, 250)\n",
              "X-squared = 3.2828, df = 1, p-value = 0.07001\n",
              "alternative hypothesis: two.sided\n",
              "95 percent confidence interval:\n",
              " -0.12018868  0.00258868\n",
              "sample estimates:\n",
              "prop 1 prop 2 \n",
              "0.6112 0.6700 \n"
            ]
          },
          "metadata": {}
        }
      ]
    },
    {
      "cell_type": "code",
      "source": [
        "# p_value > 0.05 --> accept H0"
      ],
      "metadata": {
        "id": "ca3D34NrscrI"
      },
      "execution_count": null,
      "outputs": []
    }
  ]
}