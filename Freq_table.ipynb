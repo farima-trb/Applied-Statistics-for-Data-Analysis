{
  "nbformat": 4,
  "nbformat_minor": 0,
  "metadata": {
    "colab": {
      "name": "Freq_table.ipynb",
      "provenance": [],
      "collapsed_sections": [],
      "authorship_tag": "ABX9TyPOWThJtxBf/a47J6Y7TaBQ",
      "include_colab_link": true
    },
    "kernelspec": {
      "name": "ir",
      "display_name": "R"
    },
    "language_info": {
      "name": "R"
    }
  },
  "cells": [
    {
      "cell_type": "markdown",
      "metadata": {
        "id": "view-in-github",
        "colab_type": "text"
      },
      "source": [
        "<a href=\"https://colab.research.google.com/github/farima-trb/R/blob/main/Freq_table.ipynb\" target=\"_parent\"><img src=\"https://colab.research.google.com/assets/colab-badge.svg\" alt=\"Open In Colab\"/></a>"
      ]
    },
    {
      "cell_type": "code",
      "source": [
        "t=read.table(\"/content/sample_data/Bisc_Weight.txt\",header=T)\n",
        "print(head(t))"
      ],
      "metadata": {
        "colab": {
          "base_uri": "https://localhost:8080/"
        },
        "id": "hnM0Q6ty2z1N",
        "outputId": "69472595-5022-4646-f4e9-e1caff1d0ea4"
      },
      "execution_count": null,
      "outputs": [
        {
          "output_type": "stream",
          "name": "stdout",
          "text": [
            "  Weight\n",
            "1  150.8\n",
            "2  150.2\n",
            "3  150.5\n",
            "4  149.8\n",
            "5  149.2\n",
            "6  149.8\n"
          ]
        }
      ]
    },
    {
      "cell_type": "code",
      "source": [
        "print(range(t))"
      ],
      "metadata": {
        "colab": {
          "base_uri": "https://localhost:8080/"
        },
        "id": "vZX6xPKL5Eu5",
        "outputId": "2667d7ec-5317-4a00-b4dd-0680be8dbffa"
      },
      "execution_count": null,
      "outputs": [
        {
          "output_type": "stream",
          "name": "stdout",
          "text": [
            "[1] 148.7 150.9\n"
          ]
        }
      ]
    },
    {
      "cell_type": "code",
      "source": [
        "print(table(t))"
      ],
      "metadata": {
        "colab": {
          "base_uri": "https://localhost:8080/"
        },
        "id": "ZyqDSfnf48jR",
        "outputId": "78633f7e-0d41-48ff-9dd0-a36108c8fce7"
      },
      "execution_count": null,
      "outputs": [
        {
          "output_type": "stream",
          "name": "stdout",
          "text": [
            "t\n",
            "148.7 148.9   149 149.2 149.4 149.5 149.6 149.7 149.8 149.9   150 150.1 150.2 \n",
            "    1     1     1     1     1     3     2     7     6     3     4     4     3 \n",
            "150.3 150.4 150.5 150.6 150.7 150.8 150.9 \n",
            "    1     3     4     1     1     1     2 \n"
          ]
        }
      ]
    },
    {
      "cell_type": "code",
      "source": [
        "low_val=148.5\n",
        "high_val=151.0\n",
        "step_val=0.5\n",
        "t_breaks=seq(low_val,high_val,step_val)\n",
        "print(t_breaks)"
      ],
      "metadata": {
        "colab": {
          "base_uri": "https://localhost:8080/"
        },
        "id": "Xs4czNf85Kx_",
        "outputId": "34853f01-4079-42fe-900a-648f0fb1a090"
      },
      "execution_count": null,
      "outputs": [
        {
          "output_type": "stream",
          "name": "stdout",
          "text": [
            "[1] 148.5 149.0 149.5 150.0 150.5 151.0\n"
          ]
        }
      ]
    },
    {
      "cell_type": "code",
      "source": [
        "t_cut=cut(t$Weight,t_breaks)"
      ],
      "metadata": {
        "id": "0Qp0h_lj5uwy"
      },
      "execution_count": null,
      "outputs": []
    },
    {
      "cell_type": "markdown",
      "source": [
        "**Shows each value is belonged to which range**"
      ],
      "metadata": {
        "id": "0eV8jwmc8M10"
      }
    },
    {
      "cell_type": "code",
      "source": [
        "print(t_cut)"
      ],
      "metadata": {
        "colab": {
          "base_uri": "https://localhost:8080/"
        },
        "id": "IXkH_hTr7zi_",
        "outputId": "648e3f70-a53d-400f-cd63-70b5761a4f48"
      },
      "execution_count": null,
      "outputs": [
        {
          "output_type": "stream",
          "name": "stdout",
          "text": [
            " [1] (150.5,151] (150,150.5] (150,150.5] (149.5,150] (149,149.5] (149.5,150]\n",
            " [7] (149.5,150] (149.5,150] (149,149.5] (149.5,150] (150,150.5] (149,149.5]\n",
            "[13] (150,150.5] (150,150.5] (150.5,151] (150,150.5] (149.5,150] (149.5,150]\n",
            "[19] (150,150.5] (149,149.5] (150.5,151] (149.5,150] (149.5,150] (150,150.5]\n",
            "[25] (149.5,150] (149.5,150] (149.5,150] (149.5,150] (150,150.5] (148.5,149]\n",
            "[31] (148.5,149] (149.5,150] (149.5,150] (150,150.5] (150,150.5] (150.5,151]\n",
            "[37] (150,150.5] (150.5,151] (150,150.5] (150,150.5] (149.5,150] (149.5,150]\n",
            "[43] (149.5,150] (149.5,150] (150,150.5] (149.5,150] (148.5,149] (149.5,150]\n",
            "[49] (149.5,150] (149,149.5]\n",
            "Levels: (148.5,149] (149,149.5] (149.5,150] (150,150.5] (150.5,151]\n"
          ]
        }
      ]
    },
    {
      "cell_type": "markdown",
      "source": [
        "**Shows frequency of each range of values**"
      ],
      "metadata": {
        "id": "DhKk3DFO8XA2"
      }
    },
    {
      "cell_type": "code",
      "source": [
        "print(table(t_cut))"
      ],
      "metadata": {
        "colab": {
          "base_uri": "https://localhost:8080/"
        },
        "id": "dm262V7b7WUl",
        "outputId": "66392433-8af0-46d5-b733-c52c29f451b0"
      },
      "execution_count": null,
      "outputs": [
        {
          "output_type": "stream",
          "name": "stdout",
          "text": [
            "t_cut\n",
            "(148.5,149] (149,149.5] (149.5,150] (150,150.5] (150.5,151] \n",
            "          3           5          22          15           5 \n"
          ]
        }
      ]
    },
    {
      "cell_type": "code",
      "source": [
        "freq_table=as.data.frame(table(t_cut))\n",
        "print(freq_table)"
      ],
      "metadata": {
        "colab": {
          "base_uri": "https://localhost:8080/"
        },
        "id": "XCS3HD8u6E1I",
        "outputId": "3a1786a1-799b-4809-ddff-ba33f276e7c8"
      },
      "execution_count": null,
      "outputs": [
        {
          "output_type": "stream",
          "name": "stdout",
          "text": [
            "        t_cut Freq\n",
            "1 (148.5,149]    3\n",
            "2 (149,149.5]    5\n",
            "3 (149.5,150]   22\n",
            "4 (150,150.5]   15\n",
            "5 (150.5,151]    5\n"
          ]
        }
      ]
    },
    {
      "cell_type": "code",
      "source": [
        "freq_table$CumF<-round(freq_table$Freq,1)/sum(freq_table$Freq)*100\n",
        "print(freq_table)"
      ],
      "metadata": {
        "colab": {
          "base_uri": "https://localhost:8080/"
        },
        "id": "KiwXwJko-PHw",
        "outputId": "08a869e4-1063-4a9f-8c09-d892229e921c"
      },
      "execution_count": null,
      "outputs": [
        {
          "output_type": "stream",
          "name": "stdout",
          "text": [
            "        t_cut Freq CumF\n",
            "1 (148.5,149]    3    6\n",
            "2 (149,149.5]    5   10\n",
            "3 (149.5,150]   22   44\n",
            "4 (150,150.5]   15   30\n",
            "5 (150.5,151]    5   10\n"
          ]
        }
      ]
    },
    {
      "cell_type": "code",
      "source": [
        "freq_table$Cummu_Percentage<-cumsum(freq_table$CumF)\n",
        "print(freq_table)"
      ],
      "metadata": {
        "colab": {
          "base_uri": "https://localhost:8080/"
        },
        "id": "PoXD_aPA_bxb",
        "outputId": "b43142dc-0fc7-4b6e-c041-f37e5f1e2057"
      },
      "execution_count": null,
      "outputs": [
        {
          "output_type": "stream",
          "name": "stdout",
          "text": [
            "        t_cut Freq CumF Cummu_Percentage\n",
            "1 (148.5,149]    3    6                6\n",
            "2 (149,149.5]    5   10               16\n",
            "3 (149.5,150]   22   44               60\n",
            "4 (150,150.5]   15   30               90\n",
            "5 (150.5,151]    5   10              100\n"
          ]
        }
      ]
    }
  ]
}